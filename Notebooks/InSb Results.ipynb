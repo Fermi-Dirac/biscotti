{
 "cells": [
  {
   "cell_type": "code",
   "execution_count": 1,
   "metadata": {
    "collapsed": true
   },
   "outputs": [],
   "source": [
    "from glob import glob\n",
    "import os\n",
    "from matplotlib import pyplot as plt\n",
    "import matplotlib.ticker as tick\n",
    "\n",
    "maindir = r'D:\\Documents\\SivaLab\\2016 MDA Type 2 SL\\Python'\n",
    "os.chdir(maindir)\n",
    "import Parsers\n",
    "rootpath = r'D:\\Documents\\SivaLab\\2016 MDA Type 2 SL\\Ab-Initio\\Bulk\\InSb\\PBE_GGA_PAW\\kpts and co'\n",
    "\n",
    "alloutputfiles = [ y for x in os.walk(rootpath) for y in glob(os.path.join(x[0],'*.out'))]"
   ]
  },
  {
   "cell_type": "code",
   "execution_count": 2,
   "metadata": {},
   "outputs": [
    {
     "name": "stdout",
     "output_type": "stream",
     "text": [
      "-347.36199417 -410.56656045\n"
     ]
    }
   ],
   "source": [
    "FreeSbFile = r'D:\\Documents\\SivaLab\\2016 MDA Type 2 SL\\Ab-Initio\\Bulk\\Sb_Free\\Sb_Free.in.out'\n",
    "FreeInFile = r'D:\\Documents\\SivaLab\\2016 MDA Type 2 SL\\Ab-Initio\\Bulk\\In_Free\\In_Free.in.out'\n",
    "SbFreeEnergy = Parsers.calcOverview(FreeSbFile, False)['RelaxationSteps'][-1][-1]\n",
    "InFreeEnergy = Parsers.calcOverview(FreeInFile, False)['RelaxationSteps'][-1][-1]\n",
    "print (SbFreeEnergy, InFreeEnergy)"
   ]
  },
  {
   "cell_type": "code",
   "execution_count": 3,
   "metadata": {},
   "outputs": [
    {
     "name": "stdout",
     "output_type": "stream",
     "text": [
      "47.0 is not in list\n72.0 is not in list\n"
     ]
    },
    {
     "name": "stdout",
     "output_type": "stream",
     "text": [
      "29.0 is not in list\n[[[25.0, 30.0, 35.0, 40.0, 45.0, 50.0], [-3.3778357735347795, -3.521838209751843, -3.5402990331438677, -3.556655191102226, -3.571702276821368, -3.573176114064939], 47.0, [1.5833333333333333, 1.2333333333333334, 1.6166666666666667, 1.8, 1.1, 2.3666666666666667]], [[25.0, 30.0, 35.0, 40.0, 45.0, 50.0], [-3.3789687200127982, -3.522276653371802, -3.5407338032255287, -3.5571343837885094, -3.5721398360717984, -3.573639183998598], 72.0, [2.3666666666666667, 1.75, 3.25, 2.65, 2.2666666666666666, 3.3666666666666667]], [[25.0, 30.0, 35.0, 40.0, 45.0, 50.0], [-3.377341342467721, -3.520060285156569, -3.538671927712195, -3.5549233898244084, -3.569931699303464, -3.5714534966328673], 29.0, [1.1833333333333333, 0.9166666666666666, 1.1166666666666667, 1.2833333333333334, 1.0166666666666666, 1.95]]]\n"
     ]
    }
   ],
   "source": [
    "x = []\n",
    "y = []\n",
    "plots = []\n",
    "kptslist = []\n",
    "for calcfile in alloutputfiles:\n",
    "    resultslist = Parsers.calcOverview(calcfile, False)\n",
    "    if resultslist['Job Complete?']:\n",
    "        num_atoms = resultslist['AtomicStructure']\n",
    "        newcutoff = resultslist['Cutoff (Ry)']\n",
    "        newx = newcutoff\n",
    "        newenergy = (resultslist['RelaxationSteps'][-1][-1] - InFreeEnergy - SbFreeEnergy)*13.605698066/2  #convert Ry to eV/atom\n",
    "        newtime =  (resultslist['endtime'] - resultslist['starttime']).total_seconds()/60\n",
    "        newy = newenergy\n",
    "        if newy > 20:\n",
    "            print (\"um, wtf date-time: \")\n",
    "            print (calcfile,newy, '\\n')\n",
    "        try: \n",
    "            index = kptslist.index(resultslist['Total # of K-points'])\n",
    "            plots[index][0].append(newx)\n",
    "            plots[index][1].append(newy)\n",
    "            plots[index][3].append(newtime)\n",
    "        except (Exception) as exc:\n",
    "            kptslist.append(resultslist['Total # of K-points'])\n",
    "            plots.append([[newx],[newy],resultslist['Total # of K-points'],[newtime]])\n",
    "            print (exc)\n",
    "print (plots)\n",
    "fig = plt.figure()\n",
    "ax = fig.add_subplot(211)\n",
    "bx = fig.add_subplot(212)\n",
    "\n",
    "for plot in plots:\n",
    "    ax.plot(plot[0],plot[1], marker='o', label = plot[2])\n",
    "    bx.plot(plot[0],plot[3], marker='o', label = plot[2])\n",
    "#y_fmt = tick.FormatStrFormatter('%2.6e')\n",
    "\n",
    "#ax.yaxis.set_major_formatter(tick.FuncFormatter(y_fmt))\n",
    "\n",
    "plt.show()"
   ]
  },
  {
   "cell_type": "code",
   "execution_count": 4,
   "metadata": {},
   "outputs": [
    {
     "name": "stdout",
     "output_type": "stream",
     "text": [
      "(['Final Energy (Ry)', 'Final Free Energy (Ry)', 'Final Free Energy (eV/atom)', 'Number of Atoms', 'Cutoff (Ry)', 'Total # of K-points', 'Job Complete?', 'Calc time (min)'], ['-758.42508714', '-0.4965325241998926', '-3.3778358021062886', '2', '25.0', '47.0', 'True', '1.5833333333333333'])\n"
     ]
    }
   ],
   "source": [
    "calcdict = Parsers.calcOverview(alloutputfiles[0], False)\n",
    "strings = Parsers.calcOverview_to_string(calcdict)\n",
    "print (strings)"
   ]
  },
  {
   "cell_type": "code",
   "execution_count": 5,
   "metadata": {},
   "outputs": [
    {
     "name": "stdout",
     "output_type": "stream",
     "text": [
      "0\n1\n2\n3\n4\n5\n6\n"
     ]
    },
    {
     "name": "stdout",
     "output_type": "stream",
     "text": [
      "7\n8\n9\n10\n11\n"
     ]
    },
    {
     "name": "stdout",
     "output_type": "stream",
     "text": [
      "12\n13\n14\n15\n16\n17\n"
     ]
    }
   ],
   "source": [
    "outputfile = os.path.join(rootpath,'Summary.txt')\n",
    "with open(outputfile, 'w') as fileobj:\n",
    "    for index, calcfile in enumerate(alloutputfiles):\n",
    "        print(index)\n",
    "        resultslist = Parsers.calcOverview(calcfile, False)\n",
    "        strings = Parsers.calcOverview_to_string(resultslist)\n",
    "\n",
    "        if index == 0:\n",
    "            fileobj.write('Filepath\\t' + '\\t'.join(strings[0])+'\\n')\n",
    "        fileobj.write(calcfile + '\\t' + '\\t'.join(strings[1])+'\\n')"
   ]
  },
  {
   "cell_type": "code",
   "execution_count": 6,
   "metadata": {},
   "outputs": [
    {
     "name": "stdout",
     "output_type": "stream",
     "text": [
      "0\n1\n"
     ]
    },
    {
     "name": "stdout",
     "output_type": "stream",
     "text": [
      "2\n3\n4\n5\n6\n"
     ]
    },
    {
     "name": "stdout",
     "output_type": "stream",
     "text": [
      "7\n8\n"
     ]
    },
    {
     "name": "stdout",
     "output_type": "stream",
     "text": [
      "9\n10\n11\n"
     ]
    },
    {
     "name": "stdout",
     "output_type": "stream",
     "text": [
      "12\n13\n14\n15\n"
     ]
    },
    {
     "name": "stdout",
     "output_type": "stream",
     "text": [
      "16\n17\n"
     ]
    }
   ],
   "source": [
    "Parsers.makeSummaryFile(rootpath)"
   ]
  },
  {
   "cell_type": "code",
   "execution_count": 7,
   "metadata": {},
   "outputs": [
    {
     "name": "stdout",
     "output_type": "stream",
     "text": [
      "('D:\\\\Documents\\\\SivaLab\\\\2016 MDA Type 2 SL\\\\Ab-Initio\\\\Bulk\\\\InSb\\\\PBE_GGA_PAW', 'kpts and co')\n"
     ]
    }
   ],
   "source": [
    "print (os.path.split(rootpath))"
   ]
  },
  {
   "cell_type": "code",
   "execution_count": null,
   "metadata": {},
   "outputs": [],
   "source": [
    ""
   ]
  }
 ],
 "metadata": {
  "kernelspec": {
   "display_name": "Python 2",
   "language": "python",
   "name": "python2"
  },
  "language_info": {
   "codemirror_mode": {
    "name": "ipython",
    "version": 2.0
   },
   "file_extension": ".py",
   "mimetype": "text/x-python",
   "name": "python",
   "nbconvert_exporter": "python",
   "pygments_lexer": "ipython2",
   "version": "2.7.6"
  }
 },
 "nbformat": 4,
 "nbformat_minor": 0
}