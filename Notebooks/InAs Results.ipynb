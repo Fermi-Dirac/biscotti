{
 "cells": [
  {
   "cell_type": "code",
   "execution_count": 1,
   "metadata": {
    "collapsed": true
   },
   "outputs": [],
   "source": [
    "from glob import glob\n",
    "import os\n",
    "from matplotlib import pyplot as plt\n",
    "import matplotlib.ticker as tick\n",
    "\n",
    "maindir = r'D:\\Documents\\SivaLab\\2016 MDA Type 2 SL\\Python'\n",
    "os.chdir(maindir)\n",
    "import Parsers\n",
    "rootpath = r'D:\\Documents\\SivaLab\\2016 MDA Type 2 SL\\Ab-Initio\\Bulk\\InAs\\PAW_Kpts_2'\n",
    "\n",
    "alloutputfiles = [ y for x in os.walk(rootpath) for y in glob(os.path.join(x[0],'*.out'))]"
   ]
  },
  {
   "cell_type": "code",
   "execution_count": 3,
   "metadata": {},
   "outputs": [
    {
     "name": "stdout",
     "output_type": "stream",
     "text": [
      "\n--Now parsing file D:\\Documents\\SivaLab\\2016 MDA Type 2 SL\\Ab-Initio\\Bulk\\Sb_Free\\Sb_Free.in.out\nWe have a match! :8Nov2016 at 11:58:26\nWe have a match! :kinetic-energy cutoff     =      25.0000\nWe have a match! :k points=    35\nWe have a match! :iteration #  1\nelectron step #1 last step was 99\nlooks like a new ion step1\nWe have a match! :     total energy              =    -347.36199203\n\tthis step energy : -347.36199203\nWe have a match! :iteration #  2\nelectron step #2 last step was 1\nWe have a match! :     total energy              =    -347.36199393\n\tthis step energy : -347.36199393\nWe have a match! :iteration #  3\nelectron step #3 last step was 2\nWe have a match! :    total energy              =    -347.36199417\n\tthis step energy : -347.36199417\nWe have a match! :11:59: 7   8Nov2016\nWe have a match! :JOB DONE.\n\n\n--This calculation completed\nThe cutoff is 25.0\nnumber of ionic steps is 1\nHere's the giant Relax steps[[-347.36199203, -347.36199393, -347.36199417]]\nFinal Energy: -347.36199417\n-347.36199417 -410.56656045 -175.65034951\n7.166666666666667\n"
     ]
    }
   ],
   "source": [
    "FreeSbFile = r'D:\\Documents\\SivaLab\\2016 MDA Type 2 SL\\Ab-Initio\\Bulk\\Sb_Free\\Sb_Free.in.out'\n",
    "FreeInFile = r'D:\\Documents\\SivaLab\\2016 MDA Type 2 SL\\Ab-Initio\\Bulk\\In_Free\\In_Free.in.out'\n",
    "FreeAsFile = r'D:\\Documents\\SivaLab\\2016 MDA Type 2 SL\\Ab-Initio\\Bulk\\As_Free\\As_Free.in.out'\n",
    "SbFreeEnergy = Parsers.calcOverview(FreeSbFile, True)['RelaxationSteps'][-1][-1]\n",
    "InFreeEnergy = Parsers.calcOverview(FreeInFile, False)['RelaxationSteps'][-1][-1]\n",
    "AsFreeEnergy = Parsers.calcOverview(FreeAsFile, False)['RelaxationSteps'][-1][-1]\n",
    "print (SbFreeEnergy, InFreeEnergy, AsFreeEnergy)\n",
    "\n",
    "whattime = r'D:\\Documents\\SivaLab\\2016 MDA Type 2 SL\\Ab-Initio\\Bulk\\InAs\\PAW_Kpts_2\\kpts-10\\cutoff=40.0\\InAs_Bulk_PAW.out'\n",
    "results = Parsers.calcOverview(whattime, False)\n",
    "calctimemin = (results['endtime'] - results['starttime']).total_seconds()/60\n",
    "print (calctimemin)"
   ]
  },
  {
   "cell_type": "code",
   "execution_count": 30,
   "metadata": {},
   "outputs": [
    {
     "name": "stdout",
     "output_type": "stream",
     "text": [
      "282.0 is not in list\n476.0 is not in list\n"
     ]
    },
    {
     "name": "stdout",
     "output_type": "stream",
     "text": [
      "150.0 is not in list\n[[[25.0, 27.5, 30.0, 32.5, 35.0, 37.5, 40.0, 42.5, 45.0, 47.5, 50.0], [-3.737380222740889, -3.8711568884049377, -3.9033379018129772, -3.9125399116141746, -3.921612667284071, -3.9330364875794053, -3.9446931693977962, -3.9532750995096158, -3.95752783255418, -3.959049493825721, -3.9601093096766267], 282.0, [7.283333333333333, 5.883333333333334, 6.5, 6.633333333333334, 6.05, 2.8833333333333333, 7.166666666666667, 7.916666666666667, 10.5, 11.9, 11.516666666666667]], [[25.0, 27.5, 30.0, 32.5, 35.0, 37.5, 40.0, 42.5, 45.0, 47.5, 50.0], [-3.7366229976152594, -3.8714850578427606, -3.903710697939508, -3.9128692375357033, -3.921927911308532, -3.933377922572538, -3.9450456250058243, -3.953601160064112, -3.957862600755386, -3.9593866430244304, -3.960447343245638], 476.0, [11.833333333333334, 10.2, 10.833333333333334, 10.783333333333333, 9.683333333333334, 4.866666666666666, 12.0, 14.25, 17.066666666666666, 19.233333333333334, 19.933333333333334]], [[25.0, 27.5, 30.0, 32.5, 35.0, 37.5, 40.0, 42.5, 45.0, 47.5, 50.0], [-3.735714273041359, -3.8696944799483015, -3.902014951761552, -3.9111799540640413, -3.9202396482634874, -3.9316884350152432, -3.943334436360687, -3.9519475235210453, -3.956188147494006, -3.9576957268684785, -3.9587515970669083], 150.0, [3.933333333333333, 3.3666666666666667, 3.55, 3.65, 3.35, 1.5666666666666667, 4.05, 4.366666666666666, 5.533333333333333, 6.216666666666667, 6.9]]]\n"
     ]
    }
   ],
   "source": [
    "x = []\n",
    "y = []\n",
    "plots = []\n",
    "kptslist = []\n",
    "for calcfile in alloutputfiles:\n",
    "    resultslist = Parsers.calcOverview(calcfile, False)\n",
    "    if resultslist['Job Complete?']:\n",
    "        num_atoms = resultslist['AtomicStructure']\n",
    "        newcutoff = resultslist['Cutoff (Ry)']\n",
    "        newx = newcutoff\n",
    "        newenergy = (resultslist['RelaxationSteps'][-1][-1] - InFreeEnergy - AsFreeEnergy)*13.605698066/2  #convert Ry to eV/atom\n",
    "        newtime =  (resultslist['endtime'] - resultslist['starttime']).total_seconds()/60\n",
    "        newy = newenergy\n",
    "        if newy > 20:\n",
    "            print (\"um, wtf date-time: \")\n",
    "            print (calcfile,newy, '\\n')\n",
    "        try: \n",
    "            index = kptslist.index(resultslist['Total # of K-points'])\n",
    "            plots[index][0].append(newx)\n",
    "            plots[index][1].append(newy)\n",
    "            plots[index][3].append(newtime)\n",
    "        except (Exception) as exc:\n",
    "            kptslist.append(resultslist['Total # of K-points'])\n",
    "            plots.append([[newx],[newy],resultslist['Total # of K-points'],[newtime]])\n",
    "            print (exc)\n",
    "print (plots)\n",
    "fig = plt.figure()\n",
    "ax = fig.add_subplot(211)\n",
    "bx = fig.add_subplot(212)\n",
    "\n",
    "for plot in plots:\n",
    "    ax.plot(plot[0],plot[1], marker='o', label = plot[2])\n",
    "    bx.plot(plot[0],plot[3], marker='o', label = plot[2])\n",
    "\n",
    "#y_fmt = tick.FormatStrFormatter('%2.6e')\n",
    "\n",
    "#ax.yaxis.set_major_formatter(tick.FuncFormatter(y_fmt))\n",
    "\n",
    "plt.show()"
   ]
  },
  {
   "cell_type": "code",
   "execution_count": null,
   "metadata": {},
   "outputs": [],
   "source": [
    ""
   ]
  }
 ],
 "metadata": {
  "kernelspec": {
   "display_name": "Python 2",
   "language": "python",
   "name": "python2"
  },
  "language_info": {
   "codemirror_mode": {
    "name": "ipython",
    "version": 2.0
   },
   "file_extension": ".py",
   "mimetype": "text/x-python",
   "name": "python",
   "nbconvert_exporter": "python",
   "pygments_lexer": "ipython2",
   "version": "2.7.6"
  }
 },
 "nbformat": 4,
 "nbformat_minor": 0
}