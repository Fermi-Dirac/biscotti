{
 "cells": [
  {
   "cell_type": "code",
   "execution_count": 1,
   "metadata": {
    "collapsed": false
   },
   "outputs": [],
   "source": [
    "from mpl_toolkits.mplot3d import Axes3D\n",
    "from matplotlib import pyplot as plt\n",
    "from scipy import constants as sc\n",
    "import scipy as sp\n",
    "import numpy as np\n",
    "\n",
    "%matplotlib inline\n",
    "\n",
    "from matplotlib.ticker import ScalarFormatter, FormatStrFormatter\n",
    "from IPython.display import display\n",
    "from ipywidgets import *\n",
    "import matplotlib as mpl\n",
    "\n",
    "mpl.rcParams.update({'font.size': 14})\n",
    "mpl.rc('font', family='Arial',weight='bold')\n",
    "mpl.rc('savefig',dpi=600)\n",
    "\n",
    "from mayavi import mlab\n",
    "#mlab.init_notebook()\n",
    "%gui qt"
   ]
  },
  {
   "cell_type": "code",
   "execution_count": 2,
   "metadata": {
    "collapsed": true
   },
   "outputs": [],
   "source": [
    "def full(w,hideDes=False):\n",
    "    for i in w.children:\n",
    "        i.layout.width='100%'\n",
    "        if hideDes:\n",
    "            i.description = ''\n",
    "    return w\n",
    "\n",
    "def doIT(f,*args,**kwargs):\n",
    "    display(full(interactive(f,*args,**kwargs)))"
   ]
  },
  {
   "cell_type": "code",
   "execution_count": 3,
   "metadata": {
    "collapsed": false
   },
   "outputs": [],
   "source": [
    "class Crystal():\n",
    "    __fname = ''\n",
    "    __cp  = []   #cell positions\n",
    "    __ap  = []   #atom positions\n",
    "    __Ns  = 0    #Atomic Species Count\n",
    "    __SP  = []   #Atomic Species Names\n",
    "    __Runs= 0    #Number of Runs\n",
    "\n",
    "    \n",
    "    def __init__(self,fname):\n",
    "        self.loadFile(fname)\n",
    "        \n",
    "    def getFname(self):\n",
    "        return self.__fname\n",
    "    \n",
    "    def loadFile(self,fname):\n",
    "        self.__fname=fname\n",
    "        with open(fname,'r') as f:\n",
    "            s = f.readlines()\n",
    "        sp = [i.split() for i in s]\n",
    "        cind = [i for i,l in enumerate(s) if 'CELL_PARAMETERS' in l]\n",
    "        aind = [i for i,l in enumerate(s) if 'ATOMIC_POSITIONS' in l]\n",
    "\n",
    "        def getNS(ai):\n",
    "            count = 0\n",
    "            while True:\n",
    "                if len(s[ai+count+1].split())==0:\n",
    "                    break\n",
    "                count += 1\n",
    "                return count\n",
    "        N = getNS(aind[0])\n",
    "        self.__Ns = N\n",
    "        self.__SP = np.array(sp[aind[0]+1:aind[0]+1+N])[:,0]\n",
    "        self.__cp = np.array([np.array(sp[i+1:j-1]) for i,j in zip(cind,aind)]).astype(np.float)\n",
    "        self.__ap = np.array([np.array(sp[i+1:i+2+N]) for i in aind])[:,:,1:].astype(np.float)\n",
    "        self.__Runs=len(cind)\n",
    "    \n",
    "    def mkCrystalPoints(self,Run,N):\n",
    "        mult = lambda A,r: (r*A.transpose()).transpose()\n",
    "        R = lambda h,k,l,A: h*A[0]+k*A[1]+l*A[2]\n",
    "        Rs = lambda h,k,l,A,r: np.sum(mult(np.array(A),np.array([h,k,l]))+mult(np.array(A),np.array(r)),axis=0)\n",
    "\n",
    "        Points = lambda CP,SP,N: np.array([Rs(i,j,k,CP,SP) \n",
    "                                         for i in range(N) \n",
    "                                         for j in range(N) \n",
    "                                         for k in range(N)]).transpose()\n",
    "        count = 1\n",
    "        \n",
    "        x,y,z,c=[],[],[],[]\n",
    "        #x,y,z = Points(self.__cp[Run],np.zeros(3),N)\n",
    "        #c = np.ones(len(x))*0\n",
    "        for i in self.__ap[Run]:\n",
    "            Ix,Iy,Iz = Points(self.__cp[Run],i,N)\n",
    "            Ic = np.ones(len(Ix))*count\n",
    "            x = np.concatenate((x,Ix),axis=0)\n",
    "            y = np.concatenate((y,Iy),axis=0)\n",
    "            z = np.concatenate((z,Iz),axis=0)\n",
    "            c = np.concatenate((c,Ic),axis=0)\n",
    "            count +=1\n",
    "        #pts = mlab.points3d(x,y,z,c,colormap='jet',scale_factor=1)\n",
    "        sV = np.ones(len(x))\n",
    "        return x,y,z,c,sV\n",
    "    \n",
    "    def plotCrystal(self,Run,N,scale=.5):\n",
    "        mlab.clf()\n",
    "        x,y,z,c,sV = self.mkCrystalPoints(Run,N)\n",
    "        pts = mlab.quiver3d(x, y, z, sV, sV, sV, scalars=c, mode=\"sphere\"\n",
    "                            , scale_factor=scale,vmin=0,colormap='jet')\n",
    "        pts.glyph.color_mode = \"color_by_scalar\"\n",
    "        pts.glyph.glyph_source.glyph_source.center = [0,0,0]\n",
    "        print type(pts)\n",
    "        return pts\n",
    "        #mlab.show()\n",
    "    \n",
    "    def getNumberRuns(self):\n",
    "        return self.__Runs\n",
    "    \n",
    "    def getPositions(self):\n",
    "        return self.__cp,self.__ap"
   ]
  },
  {
   "cell_type": "code",
   "execution_count": 4,
   "metadata": {
    "collapsed": false
   },
   "outputs": [],
   "source": [
    "fname = 'InAs_Bulk_PAW.in_ecut_50.00Ry.out'\n",
    "c = Crystal(fname)"
   ]
  },
  {
   "cell_type": "code",
   "execution_count": 5,
   "metadata": {
    "collapsed": false
   },
   "outputs": [],
   "source": [
    "cp,ap = c.getPositions()"
   ]
  },
  {
   "cell_type": "code",
   "execution_count": 29,
   "metadata": {
    "collapsed": false
   },
   "outputs": [
    {
     "name": "stdout",
     "output_type": "stream",
     "text": [
      "[[[  3.08516379e+00   3.08516379e+00  -3.84750000e-05]\n",
      "  [  3.08451103e+00  -8.20930000e-05   3.08452497e+00]\n",
      "  [ -8.20930000e-05   3.08451103e+00   3.08452497e+00]]\n",
      "\n",
      " [[  3.08848384e+00   3.08848384e+00  -5.32880000e-05]\n",
      "  [  3.08788132e+00  -1.47892000e-04   3.08791433e+00]\n",
      "  [ -1.47892000e-04   3.08788132e+00   3.08791433e+00]]\n",
      "\n",
      " [[  3.09345583e+00   3.09345583e+00  -4.27390000e-05]\n",
      "  [  3.09294312e+00  -2.28275000e-04   3.09301476e+00]\n",
      "  [ -2.28275000e-04   3.09294312e+00   3.09301476e+00]]\n",
      "\n",
      " [[  3.09457238e+00   3.09457238e+00  -8.49200000e-06]\n",
      "  [  3.09409673e+00  -2.31359000e-04   3.09418841e+00]\n",
      "  [ -2.31359000e-04   3.09409673e+00   3.09418841e+00]]\n",
      "\n",
      " [[  3.09457238e+00   3.09457238e+00  -8.49200000e-06]\n",
      "  [  3.09409673e+00  -2.31359000e-04   3.09418841e+00]\n",
      "  [ -2.31359000e-04   3.09409673e+00   3.09418841e+00]]]\n"
     ]
    }
   ],
   "source": [
    "print cp\n",
    "#print np.sum(cp[0],axis=0)"
   ]
  },
  {
   "cell_type": "code",
   "execution_count": 18,
   "metadata": {
    "collapsed": false
   },
   "outputs": [
    {
     "name": "stdout",
     "output_type": "stream",
     "text": [
      "<class 'mayavi.modules.vectors.Vectors'>\n"
     ]
    },
    {
     "data": {
      "text/plain": [
       "<mayavi.modules.vectors.Vectors at 0x18c6fe60>"
      ]
     },
     "metadata": {},
     "output_type": "display_data"
    }
   ],
   "source": [
    "doIT(c.plotCrystal,Run=(0,c.getNumberRuns()-1),N=(1,14),scale=(.1,1.))"
   ]
  },
  {
   "cell_type": "code",
   "execution_count": 19,
   "metadata": {
    "collapsed": false
   },
   "outputs": [
    {
     "name": "stdout",
     "output_type": "stream",
     "text": [
      "[[  1.00098122e-05   3.50402571e-06   3.50402571e-06]\n",
      " [  1.00098122e-05   3.50402571e-06   3.50402571e-06]]\n"
     ]
    }
   ],
   "source": [
    "print np.std(ap,axis=0)#/np.mean(ap,axis=0)*100"
   ]
  },
  {
   "cell_type": "code",
   "execution_count": 14,
   "metadata": {
    "collapsed": false
   },
   "outputs": [
    {
     "name": "stdout",
     "output_type": "stream",
     "text": [
      "[[  0.12244629   0.12244629 -60.88191427]\n",
      " [  0.12477086 -32.69568464   0.12577943]\n",
      " [-32.69568464   0.12477086   0.12577943]]\n"
     ]
    }
   ],
   "source": [
    "print np.std(cp,axis=0)/np.mean(cp,axis=0)*100"
   ]
  },
  {
   "cell_type": "code",
   "execution_count": null,
   "metadata": {
    "collapsed": true
   },
   "outputs": [],
   "source": [
    ""
   ]
  }
 ],
 "metadata": {
  "kernelspec": {
   "display_name": "Python 2",
   "language": "python",
   "name": "python2"
  },
  "language_info": {
   "codemirror_mode": {
    "name": "ipython",
    "version": 2.0
   },
   "file_extension": ".py",
   "mimetype": "text/x-python",
   "name": "python",
   "nbconvert_exporter": "python",
   "pygments_lexer": "ipython2",
   "version": "2.7.11"
  },
  "widgets": {
   "state": {
    "b11760edf3a3468fb1dbeadc4707ce43": {
     "views": [
      {
       "cell_index": 5.0
      }
     ]
    }
   },
   "version": "1.2.0"
  }
 },
 "nbformat": 4,
 "nbformat_minor": 0
}