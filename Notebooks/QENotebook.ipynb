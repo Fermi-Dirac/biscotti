{
 "cells": [
  {
   "cell_type": "code",
   "execution_count": 1,
   "metadata": {
    "collapsed": true
   },
   "outputs": [],
   "source": [
    "import os\n",
    "from glob import glob\n",
    "mainpath = r'D:\\Documents\\SivaLab\\2016 MDA Type 2 SL\\Python'\n",
    "os.chdir(mainpath)\n",
    "import Parsers\n",
    "outfile = r'D:\\Documents\\SivaLab\\2016 MDA Type 2 SL\\Ab-Initio\\Bulk\\InAs\\PBE_GGA_PAW\\NoDiag\\2ndRelax\\InAs_Bulk_PAW.out'\n",
    "rootpath = r'D:\\Documents\\SivaLab\\2016 MDA Type 2 SL\\Ab-Initio\\Bulk\\InAs\\PAW_K-pts_PW\\Kpts-8'"
   ]
  },
  {
   "cell_type": "code",
   "execution_count": 2,
   "metadata": {},
   "outputs": [
    {
     "name": "stdout",
     "output_type": "stream",
     "text": [
      "[['_ecut_20.00Ry', '_ecut_25.00Ry', '_ecut_30.00Ry', '_ecut_35.00Ry', '_ecut_40.00Ry', '_ecut_45.00Ry', '_ecut_50.00Ry'], ['InAsBulk_PAW.save'], [], ['InAsBulk_PAW.save'], [], ['InAsBulk_PAW.save'], [], ['InAsBulk_PAW.save'], [], ['InAsBulk_PAW.save'], [], ['InAsBulk_PAW.save'], [], ['InAsBulk_PAW.save'], []]\n['D:\\\\Documents\\\\SivaLab\\\\2016 MDA Type 2 SL\\\\Ab-Initio\\\\Bulk\\\\InAs\\\\PAW_K-pts_PW\\\\Kpts-8\\\\_ecut_20.00Ry\\\\InAs_Bulk_PAW.in_ecut_20.00Ry.out', 'D:\\\\Documents\\\\SivaLab\\\\2016 MDA Type 2 SL\\\\Ab-Initio\\\\Bulk\\\\InAs\\\\PAW_K-pts_PW\\\\Kpts-8\\\\_ecut_25.00Ry\\\\InAs_Bulk_PAW.in_ecut_25.00Ry.out', 'D:\\\\Documents\\\\SivaLab\\\\2016 MDA Type 2 SL\\\\Ab-Initio\\\\Bulk\\\\InAs\\\\PAW_K-pts_PW\\\\Kpts-8\\\\_ecut_30.00Ry\\\\InAs_Bulk_PAW.in_ecut_30.00Ry.out', 'D:\\\\Documents\\\\SivaLab\\\\2016 MDA Type 2 SL\\\\Ab-Initio\\\\Bulk\\\\InAs\\\\PAW_K-pts_PW\\\\Kpts-8\\\\_ecut_35.00Ry\\\\InAs_Bulk_PAW.in_ecut_35.00Ry.out', 'D:\\\\Documents\\\\SivaLab\\\\2016 MDA Type 2 SL\\\\Ab-Initio\\\\Bulk\\\\InAs\\\\PAW_K-pts_PW\\\\Kpts-8\\\\_ecut_40.00Ry\\\\InAs_Bulk_PAW.in_ecut_40.00Ry.out', 'D:\\\\Documents\\\\SivaLab\\\\2016 MDA Type 2 SL\\\\Ab-Initio\\\\Bulk\\\\InAs\\\\PAW_K-pts_PW\\\\Kpts-8\\\\_ecut_45.00Ry\\\\InAs_Bulk_PAW.in_ecut_45.00Ry.out', 'D:\\\\Documents\\\\SivaLab\\\\2016 MDA Type 2 SL\\\\Ab-Initio\\\\Bulk\\\\InAs\\\\PAW_K-pts_PW\\\\Kpts-8\\\\_ecut_50.00Ry\\\\InAs_Bulk_PAW.in_ecut_50.00Ry.out']\n"
     ]
    }
   ],
   "source": [
    "alloutputfiles = [ y for x in os.walk(rootpath) for y in glob(os.path.join(x[0],'*.out')) ]\n",
    "\n",
    "print ( [x[1] for x in os.walk(rootpath)])\n",
    "#tbh no idea how this works\n",
    "print (alloutputfiles)"
   ]
  },
  {
   "cell_type": "code",
   "execution_count": 4,
   "metadata": {},
   "outputs": [],
   "source": [
    "print(alloutputfiles[0])\n",
    "Parsers.calcOverview(alloutputfiles[0])"
   ]
  },
  {
   "cell_type": "code",
   "execution_count": 3,
   "metadata": {},
   "outputs": [
    {
     "name": "stdout",
     "output_type": "stream",
     "text": [
      "We have a match! :kinetic-energy cutoff     =      40.0000\nWe have a match! :iteration #  1\nelectron step #1 last step was 99\nlooks like a new ion step1\nWe have a match! :     total energy              =    -586.77024003\n\tthis step energy : -586.77024003\n"
     ]
    },
    {
     "ename": "IndexError",
     "evalue": "list index out of range",
     "traceback": [
      "\u001b[1;31m---------------------------------------------------------------------------\u001b[0m",
      "\u001b[1;31mIndexError\u001b[0m                                Traceback (most recent call last)",
      "\u001b[1;32m<ipython-input-3-1018477016ff>\u001b[0m in \u001b[0;36m<module>\u001b[1;34m()\u001b[0m\n\u001b[0;32m      1\u001b[0m \u001b[0moutputfile\u001b[0m \u001b[1;33m=\u001b[0m \u001b[1;34mr'D:\\Documents\\SivaLab\\2016 MDA Type 2 SL\\Ab-Initio\\Bulk\\InAs\\PBE_GGA_PAW\\NoDiag\\InAs_Bulk_PAWNoDiag.out'\u001b[0m\u001b[1;33m\u001b[0m\u001b[0m\n\u001b[1;32m----> 2\u001b[1;33m \u001b[0mParsers\u001b[0m\u001b[1;33m.\u001b[0m\u001b[0mcalcOverview\u001b[0m\u001b[1;33m(\u001b[0m\u001b[0moutputfile\u001b[0m\u001b[1;33m)\u001b[0m\u001b[1;33m\u001b[0m\u001b[0m\n\u001b[0m",
      "\u001b[1;32mD:\\Documents\\SivaLab\\2016 MDA Type 2 SL\\Python\\Parsers.py\u001b[0m in \u001b[0;36mcalcOverview\u001b[1;34m(outputfile, GetDOS)\u001b[0m\n\u001b[0;32m     79\u001b[0m                         \u001b[0mnewenergy\u001b[0m \u001b[1;33m=\u001b[0m \u001b[0mfloat\u001b[0m\u001b[1;33m(\u001b[0m\u001b[0msearchresult\u001b[0m\u001b[1;33m[\u001b[0m\u001b[1;36m0\u001b[0m\u001b[1;33m]\u001b[0m\u001b[1;33m.\u001b[0m\u001b[0msplit\u001b[0m\u001b[1;33m(\u001b[0m\u001b[1;34m'='\u001b[0m\u001b[1;33m)\u001b[0m\u001b[1;33m[\u001b[0m\u001b[1;36m1\u001b[0m\u001b[1;33m]\u001b[0m\u001b[1;33m)\u001b[0m\u001b[1;33m\u001b[0m\u001b[0m\n\u001b[0;32m     80\u001b[0m                         \u001b[0mprint\u001b[0m \u001b[1;33m(\u001b[0m\u001b[1;34m\"\\tthis step energy : \"\u001b[0m \u001b[1;33m+\u001b[0m \u001b[0mstr\u001b[0m\u001b[1;33m(\u001b[0m\u001b[0mnewenergy\u001b[0m\u001b[1;33m)\u001b[0m\u001b[1;33m)\u001b[0m\u001b[1;33m\u001b[0m\u001b[0m\n\u001b[1;32m---> 81\u001b[1;33m                         \u001b[0mRelaxationSteps\u001b[0m\u001b[1;33m[\u001b[0m\u001b[0mionstep\u001b[0m\u001b[1;33m]\u001b[0m\u001b[1;33m.\u001b[0m\u001b[0mappend\u001b[0m\u001b[1;33m(\u001b[0m\u001b[0mnewenergy\u001b[0m\u001b[1;33m)\u001b[0m\u001b[1;33m\u001b[0m\u001b[0m\n\u001b[0m\u001b[0;32m     82\u001b[0m                     \u001b[1;32melif\u001b[0m \u001b[1;34m'cutoff'\u001b[0m \u001b[1;32min\u001b[0m \u001b[0mregex\u001b[0m \u001b[1;33m:\u001b[0m\u001b[1;33m\u001b[0m\u001b[0m\n\u001b[0;32m     83\u001b[0m                         \u001b[0mcutoff\u001b[0m \u001b[1;33m=\u001b[0m \u001b[0mfloat\u001b[0m\u001b[1;33m(\u001b[0m\u001b[0msearchresult\u001b[0m\u001b[1;33m[\u001b[0m\u001b[1;36m0\u001b[0m\u001b[1;33m]\u001b[0m\u001b[1;33m.\u001b[0m\u001b[0msplit\u001b[0m\u001b[1;33m(\u001b[0m\u001b[1;34m'='\u001b[0m\u001b[1;33m)\u001b[0m\u001b[1;33m[\u001b[0m\u001b[1;36m1\u001b[0m\u001b[1;33m]\u001b[0m\u001b[1;33m)\u001b[0m \u001b[1;31m# in Ry\u001b[0m\u001b[1;33m\u001b[0m\u001b[0m\n",
      "\u001b[1;31mIndexError\u001b[0m: list index out of range"
     ],
     "output_type": "error"
    }
   ],
   "source": [
    "outputfile = r'D:\\Documents\\SivaLab\\2016 MDA Type 2 SL\\Ab-Initio\\Bulk\\InAs\\PBE_GGA_PAW\\NoDiag\\InAs_Bulk_PAWNoDiag.out'\n",
    "Parsers.calcOverview(outputfile)"
   ]
  },
  {
   "cell_type": "code",
   "execution_count": 3,
   "metadata": {},
   "outputs": [],
   "source": [
    "filename = r\"D:/Documents/SivaLab/2016 MDA Type 2 SL/Ab-Initio/Bulk/InAs/PBE_GGA_PAW/InAs_Bulk_PAW.in\"\n",
    "print (filename)\n",
    "infileDict = Parsers.parseConfig(\"D:/Documents/SivaLab/2016 MDA Type 2 SL/Ab-Initio/Bulk/InAs/PBE_GGA_PAW/InAs_Bulk_PAW.in\")\n",
    "#for namelist in infileDict:\n",
    "#    print (namelist + \":\")\n",
    "#    for command in infileDict[namelist]:\n",
    "#        print (\"\\t\" + command + \"= \" + infileDict[namelist][command][0])\n",
    "#Parsers.boring()\n",
    "Parsers.writeConfig('test.in', infileDict)"
   ]
  },
  {
   "cell_type": "code",
   "execution_count": 5,
   "metadata": {},
   "outputs": [],
   "source": [
    "Parsers.writeConfig('test.out',infileDict)"
   ]
  }
 ],
 "metadata": {
  "kernelspec": {
   "display_name": "Python 2",
   "language": "python",
   "name": "python2"
  },
  "language_info": {
   "codemirror_mode": {
    "name": "ipython",
    "version": 2.0
   },
   "file_extension": ".py",
   "mimetype": "text/x-python",
   "name": "python",
   "nbconvert_exporter": "python",
   "pygments_lexer": "ipython2",
   "version": "2.7.6"
  }
 },
 "nbformat": 4,
 "nbformat_minor": 0
}