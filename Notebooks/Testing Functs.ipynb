{
 "cells": [
  {
   "cell_type": "code",
   "execution_count": 38,
   "metadata": {
    "collapsed": true
   },
   "outputs": [
    {
     "name": "stdout",
     "output_type": "stream",
     "text": [
      "test\n"
     ]
    }
   ],
   "source": [
    "import re\n",
    "import os\n",
    "import numpy as np\n",
    "from glob import glob\n",
    "mainpath = r'D:\\Documents\\SivaLab\\2016 MDA Type 2 SL\\Python'\n",
    "os.chdir(mainpath)\n",
    "outfile = r'D:\\Documents\\SivaLab\\2016 MDA Type 2 SL\\Ab-Initio\\Bulk\\InAs\\PBE_GGA_PAW\\NoDiag\\2ndRelax\\InAs_Bulk_PAW.out'\n",
    "rootpath = r'D:\\Documents\\SivaLab\\2016 MDA Type 2 SL\\Ab-Initio\\Bulk\\InAs\\PAW_K-pts_PW'\n",
    "print (\"test\")\n",
    "from matplotlib import pyplot as plt\n",
    "from pylab import MaxNLocator\n",
    "\n",
    "\n",
    "#  %matplotlib inline"
   ]
  },
  {
   "cell_type": "code",
   "execution_count": 41,
   "metadata": {},
   "outputs": [
    {
     "name": "stdout",
     "output_type": "stream",
     "text": [
      "[['Kpts-10', 'Kpts-12', 'Kpts-8'], ['_ecut_20.00Ry', '_ecut_25.00Ry', '_ecut_30.00Ry', '_ecut_35.00Ry', '_ecut_40.00Ry', '_ecut_45.00Ry', '_ecut_50.00Ry'], ['InAsBulk_PAW.save'], [], ['InAsBulk_PAW.save'], [], ['InAsBulk_PAW.save'], [], ['InAsBulk_PAW.save'], [], ['InAsBulk_PAW.save'], [], ['InAsBulk_PAW.save'], [], ['InAsBulk_PAW.save'], [], ['_ecut_20.00Ry', '_ecut_25.00Ry', '_ecut_30.00Ry', '_ecut_35.00Ry', '_ecut_40.00Ry', '_ecut_45.00Ry', '_ecut_50.00Ry'], ['InAsBulk_PAW.save'], [], [], ['InAsBulk_PAW.save'], [], ['InAsBulk_PAW.save'], [], ['InAsBulk_PAW.save'], [], ['InAsBulk_PAW.save'], [], ['InAsBulk_PAW.save'], [], ['_ecut_20.00Ry', '_ecut_25.00Ry', '_ecut_30.00Ry', '_ecut_35.00Ry', '_ecut_40.00Ry', '_ecut_45.00Ry', '_ecut_50.00Ry'], ['InAsBulk_PAW.save'], [], ['InAsBulk_PAW.save'], [], ['InAsBulk_PAW.save'], [], ['InAsBulk_PAW.save'], [], ['InAsBulk_PAW.save'], [], ['InAsBulk_PAW.save'], [], ['InAsBulk_PAW.save'], []]\n['D:\\\\Documents\\\\SivaLab\\\\2016 MDA Type 2 SL\\\\Ab-Initio\\\\Bulk\\\\InAs\\\\PAW_K-pts_PW\\\\Kpts-10\\\\_ecut_20.00Ry\\\\InAs_Bulk_PAW.in_ecut_20.00Ry.out', 'D:\\\\Documents\\\\SivaLab\\\\2016 MDA Type 2 SL\\\\Ab-Initio\\\\Bulk\\\\InAs\\\\PAW_K-pts_PW\\\\Kpts-10\\\\_ecut_25.00Ry\\\\InAs_Bulk_PAW.in_ecut_25.00Ry.out', 'D:\\\\Documents\\\\SivaLab\\\\2016 MDA Type 2 SL\\\\Ab-Initio\\\\Bulk\\\\InAs\\\\PAW_K-pts_PW\\\\Kpts-10\\\\_ecut_30.00Ry\\\\InAs_Bulk_PAW.in_ecut_30.00Ry.out', 'D:\\\\Documents\\\\SivaLab\\\\2016 MDA Type 2 SL\\\\Ab-Initio\\\\Bulk\\\\InAs\\\\PAW_K-pts_PW\\\\Kpts-10\\\\_ecut_35.00Ry\\\\InAs_Bulk_PAW.in_ecut_35.00Ry.out', 'D:\\\\Documents\\\\SivaLab\\\\2016 MDA Type 2 SL\\\\Ab-Initio\\\\Bulk\\\\InAs\\\\PAW_K-pts_PW\\\\Kpts-10\\\\_ecut_40.00Ry\\\\InAs_Bulk_PAW.in_ecut_40.00Ry.out', 'D:\\\\Documents\\\\SivaLab\\\\2016 MDA Type 2 SL\\\\Ab-Initio\\\\Bulk\\\\InAs\\\\PAW_K-pts_PW\\\\Kpts-10\\\\_ecut_45.00Ry\\\\InAs_Bulk_PAW.in_ecut_45.00Ry.out', 'D:\\\\Documents\\\\SivaLab\\\\2016 MDA Type 2 SL\\\\Ab-Initio\\\\Bulk\\\\InAs\\\\PAW_K-pts_PW\\\\Kpts-10\\\\_ecut_50.00Ry\\\\InAs_Bulk_PAW.in_ecut_50.00Ry.out', 'D:\\\\Documents\\\\SivaLab\\\\2016 MDA Type 2 SL\\\\Ab-Initio\\\\Bulk\\\\InAs\\\\PAW_K-pts_PW\\\\Kpts-12\\\\_ecut_20.00Ry\\\\InAs_Bulk_PAW.in_ecut_20.00Ry.out', 'D:\\\\Documents\\\\SivaLab\\\\2016 MDA Type 2 SL\\\\Ab-Initio\\\\Bulk\\\\InAs\\\\PAW_K-pts_PW\\\\Kpts-12\\\\_ecut_30.00Ry\\\\InAs_Bulk_PAW.in_ecut_30.00Ry.out', 'D:\\\\Documents\\\\SivaLab\\\\2016 MDA Type 2 SL\\\\Ab-Initio\\\\Bulk\\\\InAs\\\\PAW_K-pts_PW\\\\Kpts-12\\\\_ecut_35.00Ry\\\\InAs_Bulk_PAW.in_ecut_35.00Ry.out', 'D:\\\\Documents\\\\SivaLab\\\\2016 MDA Type 2 SL\\\\Ab-Initio\\\\Bulk\\\\InAs\\\\PAW_K-pts_PW\\\\Kpts-12\\\\_ecut_40.00Ry\\\\InAs_Bulk_PAW.in_ecut_40.00Ry.out', 'D:\\\\Documents\\\\SivaLab\\\\2016 MDA Type 2 SL\\\\Ab-Initio\\\\Bulk\\\\InAs\\\\PAW_K-pts_PW\\\\Kpts-12\\\\_ecut_45.00Ry\\\\InAs_Bulk_PAW.in_ecut_45.00Ry.out', 'D:\\\\Documents\\\\SivaLab\\\\2016 MDA Type 2 SL\\\\Ab-Initio\\\\Bulk\\\\InAs\\\\PAW_K-pts_PW\\\\Kpts-12\\\\_ecut_50.00Ry\\\\InAs_Bulk_PAW.in_ecut_50.00Ry.out', 'D:\\\\Documents\\\\SivaLab\\\\2016 MDA Type 2 SL\\\\Ab-Initio\\\\Bulk\\\\InAs\\\\PAW_K-pts_PW\\\\Kpts-8\\\\_ecut_20.00Ry\\\\InAs_Bulk_PAW.in_ecut_20.00Ry.out', 'D:\\\\Documents\\\\SivaLab\\\\2016 MDA Type 2 SL\\\\Ab-Initio\\\\Bulk\\\\InAs\\\\PAW_K-pts_PW\\\\Kpts-8\\\\_ecut_25.00Ry\\\\InAs_Bulk_PAW.in_ecut_25.00Ry.out', 'D:\\\\Documents\\\\SivaLab\\\\2016 MDA Type 2 SL\\\\Ab-Initio\\\\Bulk\\\\InAs\\\\PAW_K-pts_PW\\\\Kpts-8\\\\_ecut_30.00Ry\\\\InAs_Bulk_PAW.in_ecut_30.00Ry.out', 'D:\\\\Documents\\\\SivaLab\\\\2016 MDA Type 2 SL\\\\Ab-Initio\\\\Bulk\\\\InAs\\\\PAW_K-pts_PW\\\\Kpts-8\\\\_ecut_35.00Ry\\\\InAs_Bulk_PAW.in_ecut_35.00Ry.out', 'D:\\\\Documents\\\\SivaLab\\\\2016 MDA Type 2 SL\\\\Ab-Initio\\\\Bulk\\\\InAs\\\\PAW_K-pts_PW\\\\Kpts-8\\\\_ecut_40.00Ry\\\\InAs_Bulk_PAW.in_ecut_40.00Ry.out', 'D:\\\\Documents\\\\SivaLab\\\\2016 MDA Type 2 SL\\\\Ab-Initio\\\\Bulk\\\\InAs\\\\PAW_K-pts_PW\\\\Kpts-8\\\\_ecut_45.00Ry\\\\InAs_Bulk_PAW.in_ecut_45.00Ry.out', 'D:\\\\Documents\\\\SivaLab\\\\2016 MDA Type 2 SL\\\\Ab-Initio\\\\Bulk\\\\InAs\\\\PAW_K-pts_PW\\\\Kpts-8\\\\_ecut_50.00Ry\\\\InAs_Bulk_PAW.in_ecut_50.00Ry.out']\n"
     ]
    }
   ],
   "source": [
    "alloutputfiles = [ y for x in os.walk(rootpath) for y in glob(os.path.join(x[0],'*.out')) ]\n",
    "\n",
    "print ( [x[1] for x in os.walk(rootpath)])\n",
    "#tbh no idea how this works\n",
    "print (alloutputfiles)"
   ]
  },
  {
   "cell_type": "code",
   "execution_count": 5,
   "metadata": {},
   "outputs": [],
   "source": [
    "def calcOverview(outputfile, verbose = True, GetDOS = False):\n",
    "    # This quickly looks through a QE output file and generates a calculational summary.\n",
    "    # Outputs:\n",
    "    # Ionic parts, a list of lists of ionic energies. for a static calc, just a list of length 1 of all electornic steps\n",
    "    RelaxationSteps = []\n",
    "    #   Final unit cell pressure\n",
    "    #   Final Free Energy eV, and Energy/atom and total formation energy\n",
    "    #   atomic structures. Lattice vectors and atomic positions. List of these for each ionic step.\n",
    "    atomicStructure = []\n",
    "    #   Final Structure Volume, lattice vector lengths\n",
    "    #   Number of atoms\n",
    "    #   Calculation Time (seconds?)\n",
    "    #   Execution Date\n",
    "    calctime = 0\n",
    "    #   Density of States Optional\n",
    "    #   K-points\n",
    "    #   Job completion\n",
    "    # This summary dictionary will have each ionic step as an array element.\n",
    "    ionstep = 0\n",
    "    electronstep = 99\n",
    "    jobComplete = False\n",
    "    kpts = 0\n",
    "    cutoff = 0\n",
    "    if verbose : print (\"\\n--Now parsing file \" + outputfile)\n",
    "    with open(outputfile) as fileobj:\n",
    "        for line in fileobj :\n",
    "            regexlist = {'iteration' : r'iteration #[\\s]+[0-9]+',\n",
    "                         'total energy' : r'[\\s]*total energy[\\s]*=[\\s]*[\\-\\.0-9]*',\n",
    "                         'cutoff' : r'kinetic-energy cutoff[\\s]*=[\\s]*[\\-\\.0-9]*',\n",
    "                         'done' : r'JOB DONE.',\n",
    "                         'Cell Parameters' : r'CELL_PARAMETERS',\n",
    "                         'k-points' : r'k points=[\\s]*[0-9]*',\n",
    "                         'exitcode' : r'Exit code:[\\s0-9]*'}\n",
    "            for regex in regexlist :\n",
    "                searchresult = re.findall(regexlist[regex],line)\n",
    "                if searchresult :# isn't empty..\n",
    "                    if verbose: print (\"We have a match! :\" +(searchresult[0]))\n",
    "                    if 'iteration' in regex:\n",
    "                        newstep = int(searchresult[0].split('#')[1])\n",
    "                        if verbose: print ('electron step #' + str(newstep) + \" last step was \" + str(electronstep))\n",
    "                        if electronstep > newstep : #reset to new ionic step\n",
    "                            ionstep += 1\n",
    "                            if verbose: print (\"looks like a new ion step\" + str(ionstep))\n",
    "                            RelaxationSteps.append([])\n",
    "                        electronstep = newstep\n",
    "                    elif 'total energy' in regex : #total energy\n",
    "                        newenergy = float(searchresult[0].split('=')[1])\n",
    "                        if verbose: print (\"\\tthis step energy : \" + str(newenergy))\n",
    "                        RelaxationSteps[ionstep-1].append(newenergy)  #ionstep starts at 1, index starts at 0\n",
    "                    elif 'Cell Parameters' in regex:\n",
    "                        lattice = []\n",
    "                        atoms = []\n",
    "                        #fileobj.readline()  #read the rest of this line\n",
    "                        for i in range(3):\n",
    "                            lattice.append(fileobj.readline().split())\n",
    "                            if verbose : print (lattice)\n",
    "                        fileobj.readline()\n",
    "                        fileobj.readline()  #read the empty line and Atomic_Positions\n",
    "                        while True: # is not null\n",
    "                            newatom = fileobj.readline().split()\n",
    "                            if verbose : print (\"new atom: \" + str(newatom))\n",
    "                            if not newatom or newatom[0] == 'End':  #if empty\n",
    "                                break\n",
    "                            atoms.append(newatom)\n",
    "                        atomicStructure = [lattice,atoms]\n",
    "                    elif 'cutoff' in regex:\n",
    "                        cutoff = float(searchresult[0].split('=')[1]) # in Ry\n",
    "                    elif 'k-points' in regex:\n",
    "                        kpts = float(searchresult[0].split('=')[1]) # total # of kpts\n",
    "                    elif 'exitcode' in regex:\n",
    "                        if verbose : print (\"Timeout detected! This calculation did not complete! \"+ searchresult[0])\n",
    "                        jobComplete = False\n",
    "                    elif 'done' in regex:\n",
    "                        jobComplete = True\n",
    "                # break  #don't check any more regex if empty\n",
    "    if verbose :\n",
    "        if jobComplete:\n",
    "            completestring = \"completed\"\n",
    "        else:\n",
    "            completestring = \"did not complete\"\n",
    "        print (\"\\n\\n--This calculation \" + completestring)\n",
    "        print (\"The cutoff is \" + str(cutoff))\n",
    "        print (\"number of ionic steps is \" + str(ionstep))\n",
    "        print (\"Here's the giant Relax steps\" + str(RelaxationSteps))\n",
    "        print(\"Final Energy: \" + str(RelaxationSteps[-1][-1]))\n",
    "    return {'RelaxationSteps': RelaxationSteps, 'AtomicStructure' : atomicStructure, 'Total # of K-points' : kpts, 'Cutoff (Ry)' : cutoff, 'Job Complete?': jobComplete}"
   ]
  },
  {
   "cell_type": "code",
   "execution_count": 6,
   "metadata": {},
   "outputs": [
    {
     "name": "stdout",
     "output_type": "stream",
     "text": [
      "[['3.068267919', '3.068267919', '-0.000024164'], ['3.067737822', '-0.000186635', '3.067769581'], ['-0.000186635', '3.067737822', '3.067769581']]\n\n\n[['In', '0.000452896', '0.000013122', '0.000013122'], ['As', '0.250547104', '0.249986878', '0.249986878']]\n\n\n"
     ]
    },
    {
     "ename": "NameError",
     "evalue": "name 'num_atoms' is not defined",
     "traceback": [
      "\u001b[1;31m---------------------------------------------------------------------------\u001b[0m",
      "\u001b[1;31mNameError\u001b[0m                                 Traceback (most recent call last)",
      "\u001b[1;32m<ipython-input-6-466b0b0c3a64>\u001b[0m in \u001b[0;36m<module>\u001b[1;34m()\u001b[0m\n\u001b[0;32m      8\u001b[0m     \u001b[0mprint\u001b[0m \u001b[1;33m(\u001b[0m\u001b[0mthing\u001b[0m\u001b[1;33m)\u001b[0m\u001b[1;33m\u001b[0m\u001b[0m\n\u001b[0;32m      9\u001b[0m     \u001b[0mprint\u001b[0m \u001b[1;33m(\u001b[0m\u001b[1;34m'\\n'\u001b[0m\u001b[1;33m)\u001b[0m\u001b[1;33m\u001b[0m\u001b[0m\n\u001b[1;32m---> 10\u001b[1;33m \u001b[0mprint\u001b[0m \u001b[1;33m(\u001b[0m\u001b[0mnum_atoms\u001b[0m\u001b[1;33m)\u001b[0m\u001b[1;33m\u001b[0m\u001b[0m\n\u001b[0m",
      "\u001b[1;31mNameError\u001b[0m: name 'num_atoms' is not defined"
     ],
     "output_type": "error"
    }
   ],
   "source": [
    "resultslist = calcOverview(r'D:\\Documents\\SivaLab\\2016 MDA Type 2 SL\\Ab-Initio\\Bulk\\InAs\\PAW_Kpts_2\\kpts-10\\cutoff=27.5\\InAs_Bulk_PAW.out',False)\n",
    "    \n",
    "for stuff in resultslist:\n",
    "    print (stuff)\n",
    "    print ('\\n')"
   ]
  },
  {
   "cell_type": "code",
   "execution_count": 70,
   "metadata": {},
   "outputs": [
    {
     "name": "stdout",
     "output_type": "stream",
     "text": [
      "282.0 is not in list\n476.0 is not in list\n150.0 is not in list\n[[[20.0, 25.0, 35.0, 40.0, 45.0, 50.0], [293.29325621, 293.38314726, 293.39666538, 293.398384475, 293.399327805, 293.39951754], 282.0], [[20.0, 30.0, 35.0, 40.0, 45.0, 50.0], [293.29335684, 293.39537232, 293.39671126, 293.39841038, 293.39935241, 293.399542385], 476.0], [[40.0, 45.0, 50.0], [293.39828461, 293.39922934, 293.39941775], 150.0]]\n"
     ]
    }
   ],
   "source": [
    "x = []\n",
    "y = []\n",
    "plots = []\n",
    "kptslist = []\n",
    "for calcfile in alloutputfiles:\n",
    "    resultslist = calcOverview(calcfile,False)\n",
    "    if resultslist['Job Complete?']:\n",
    "        newx = resultslist['Cutoff (Ry)']\n",
    "        newy = (resultslist['RelaxationSteps'][-1][-1] / -2 )\n",
    "        try: \n",
    "            index = kptslist.index(resultslist['Total # of K-points'])\n",
    "            plots[index][0].append(newx)\n",
    "            plots[index][1].append(newy)\n",
    "        except (Exception) as exc:\n",
    "            kptslist.append(resultslist['Total # of K-points'])\n",
    "            plots.append([[newx],[newy],resultslist['Total # of K-points']])\n",
    "            print (exc)\n",
    "print (plots)\n",
    "fig = plt.figure()\n",
    "ax = fig.add_subplot(111)\n",
    "\n",
    "for plot in plots:\n",
    "    ax.plot(plot[0],plot[1], marker='o', label = plot[2])\n",
    "\n",
    "y_fmt = tick.FormatStrFormatter('%2.5e')\n",
    "\n",
    "ax.yaxis.set_major_formatter(tick.FuncFormatter(y_fmt))\n",
    "\n",
    "plt.show()"
   ]
  },
  {
   "cell_type": "code",
   "execution_count": 87,
   "metadata": {},
   "outputs": [
    {
     "name": "stdout",
     "output_type": "stream",
     "text": [
      "[1, 2, 3] [4, 5, 6]\n[4, 6, 6] [4, 5, 6]\n[{'two': 2, 'one': 25.0, 'three': 3}, {'two': 2, 'one': 26.666666666666668, 'three': 3}, {'two': 2, 'one': 28.333333333333332, 'three': 3}, {'two': 2, 'one': 30.0, 'three': 3}, {'two': 2, 'one': 31.666666666666668, 'three': 3}, {'two': 2, 'one': 33.333333333333336, 'three': 3}, {'two': 2, 'one': 35.0, 'three': 3}, {'two': 2, 'one': 36.666666666666671, 'three': 3}, {'two': 2, 'one': 38.333333333333336, 'three': 3}, {'two': 2, 'one': 40.0, 'three': 3}]\n"
     ]
    }
   ],
   "source": [
    "# Dictionaries pass references\n",
    "dictionary = {'one': 1, 'two':2, 'three':3}\n",
    "result = []\n",
    "a=5\n",
    "b=3\n",
    "a = [1,2,3]\n",
    "b = a\n",
    "a = [4,5,6]\n",
    "print(b,a)\n",
    "d = [i+1 for i in a]\n",
    "c = a.copy()\n",
    "c[1]+=1\n",
    "print(c,a)\n",
    "for n in np.linspace(25,40,10):\n",
    "    newdict = dictionary.copy()\n",
    "    newdict['one'] = n\n",
    "    result.append(newdict)\n",
    "print (result)"
   ]
  },
  {
   "cell_type": "code",
   "execution_count": 56,
   "metadata": {},
   "outputs": [
    {
     "name": "stdout",
     "output_type": "stream",
     "text": [
      "3\n"
     ]
    }
   ],
   "source": [
    "# how to handle exceptions\n",
    "list1 = [1,2,3,4,4, 5]\n",
    "try :\n",
    "    print (list1.index(4))\n",
    "except (Exception) as e:\n",
    "    print (e)"
   ]
  },
  {
   "cell_type": "code",
   "execution_count": 38,
   "metadata": {},
   "outputs": [],
   "source": [
    "# change plot y axis\n",
    "import matplotlib.ticker as tick\n",
    "fig = plt.figure()\n",
    "ax = fig.add_subplot(111)\n",
    "ax.plot(x,y, marker = 'o')\n",
    "\n",
    "#y_fmt = tick.FormatStrFormatter('%2.5e')\n",
    "\n",
    "#ax.yaxis.set_major_formatter(tick.FuncFormatter(y_fmt))\n",
    "\n",
    "plt.show()"
   ]
  },
  {
   "cell_type": "code",
   "execution_count": 16,
   "metadata": {},
   "outputs": [
    {
     "name": "stdout",
     "output_type": "stream",
     "text": [
      "[' Volume in drive D is Data\\n', ' Volume Serial Number is 9C9F-27F7\\n', '\\n', ' Directory of D:\\\\Users\\\\Chris\\\\Documents\\n', '\\n', '2016-11-02  03:17 PM    <DIR>          .\\n', '2016-11-02  03:17 PM    <DIR>          ..\\n', '2016-11-02  03:15 PM    <DIR>          .ipynb_checkpoints\\n', '2016-08-22  03:39 PM    <DIR>          Add-in Express\\n', '2016-08-22  03:39 PM    <DIR>          Custom Office Templates\\n', '2016-08-22  03:39 PM    <DIR>          Heroes of the Storm\\n', '2016-09-07  04:29 PM    <DIR>          HyperSpec\\n', '2016-10-24  03:13 PM    <DIR>          Jupyter ipython notebooks\\n', '2016-08-22  03:39 PM    <DIR>          LabVIEW Data\\n', '2016-11-03  09:38 AM    <DIR>          Nyx\\n', '2016-08-24  09:05 AM    <DIR>          OneNote Notebooks\\n', '2016-10-06  10:27 AM    <DIR>          Outlook Files\\n', '2016-10-05  01:27 PM           483,328 putty.exe\\n', '2016-08-22  03:39 PM    <DIR>          Python Scripts\\n', '2016-08-22  03:39 PM    <DIR>          QDIP SED\\n', '2016-11-02  02:56 PM             5,369 QENotebook.ipynb\\n', '2016-09-02  12:53 PM         1,555,326 Raw Video Demo.ipynb\\n', '2016-09-02  03:08 PM            35,332 SED-Close Look.ipynb\\n', '2016-07-15  11:36 AM           292,878 SED-TestAnalysis_QE.ipynb\\n', '2016-01-06  05:41 PM           286,281 sivalab.xml\\n', '2016-10-31  10:49 AM    <DIR>          SQL Server Management Studio\\n', '2016-08-22  03:39 PM    <DIR>          The Witcher 3\\n', '2016-08-24  02:39 PM    <DIR>          Untitled Folder\\n', '2016-09-02  12:51 PM                72 Untitled.ipynb\\n', '2016-10-28  01:02 PM             5,839 Untitled1.ipynb\\n', '2016-09-15  07:57 PM                72 Untitled2.ipynb\\n', '2016-10-28  11:23 AM                72 Untitled3.ipynb\\n', '2016-10-28  11:24 AM                72 Untitled4.ipynb\\n', '2016-11-02  12:04 PM                72 Untitled5.ipynb\\n', '2016-11-02  01:37 PM                72 Untitled6.ipynb\\n', '2016-11-02  03:17 PM               948 Untitled7.ipynb\\n', '2016-08-22  03:39 PM    <DIR>          Visual Studio 2010\\n', '2016-08-22  03:39 PM    <DIR>          Witcher 3\\n', '              14 File(s)      2,665,733 bytes\\n', '              19 Dir(s)  155,850,653,696 bytes free\\n']\n"
     ]
    }
   ],
   "source": [
    "#Example on how to send commands to the terminal\n",
    "\n",
    "\n",
    "os.system(\"dir\")  #sends a command to the terminal\n",
    "\n",
    "# lets you read the command back\n",
    "with os.popen(\"dir\") as f:\n",
    "    print (f.readlines())"
   ]
  },
  {
   "cell_type": "code",
   "execution_count": 113,
   "metadata": {},
   "outputs": [
    {
     "name": "stdout",
     "output_type": "stream",
     "text": [
      "D:\\Documents\\SivaLab\\2016 MDA Type 2 SL\\Ab-Initio\\Bulk\\InSb\\PBE_GGA_PAW\\test\\test2\\test3\nD:\\Documents\\SivaLab\\2016 MDA Type 2 SL\\Ab-Initio\\Bulk\\InSb\\PBE_GGA_PAW\\newfile.in\n"
     ]
    }
   ],
   "source": [
    "import os\n",
    "path = r'D:\\Documents\\SivaLab\\2016 MDA Type 2 SL\\Ab-Initio\\Bulk\\InSb\\PBE_GGA_PAW\\InSb_Bulk_PAW - Copy.in'\n",
    "basepath = os.path.split(path)[0]\n",
    "os.mkdir(basepath + os.path.sep +'newthing')\n",
    "print (os.path.join(basepath,'test','test2','test3'))\n",
    "print (os.path.split(path)[0]+os.path.sep + 'newfile.in')"
   ]
  },
  {
   "cell_type": "code",
   "execution_count": 10,
   "metadata": {},
   "outputs": [],
   "source": [
    "import os\n",
    "import re\n",
    "import numpy as np\n",
    "def makenewcalc(basefile, kpts, cutoff):\n",
    "    with open(basefile, 'r') as fileobj:\n",
    "        mainfolder = os.path.split(basefile)[0]\n",
    "        newpath = os.path.join(mainfolder,'kpts-'+kpts[:2].strip(),'cutoff='+ str(cutoff))\n",
    "        if not os.path.exists(newpath):\n",
    "            os.makedirs(newpath)\n",
    "        newfile = os.path.join(newpath, os.path.split(basefile)[1])\n",
    "        with open(newfile, 'w') as newfileobj:\n",
    "            for line in fileobj:\n",
    "                searchresult = re.findall(r'ecutwfc[\\s]+=',line)\n",
    "                if searchresult: #isn't null\n",
    "                    newfileobj.write('    ecutwfc         = ' + str(cutoff)+' ,! autogen \\n')\n",
    "                else: \n",
    "                    searchresult = re.findall(r'K_POINTS',line)\n",
    "                    if searchresult: # isn't null again\n",
    "                        newfileobj.write(line)\n",
    "                        newfileobj.write('  ' + kpts)\n",
    "                        fileobj.readline()\n",
    "                    else:\n",
    "                        newfileobj.write(line)\n",
    "basefile = r'D:\\Documents\\SivaLab\\2016 MDA Type 2 SL\\Ab-Initio\\Bulk\\InSb\\PBE_GGA_PAW\\InSb_Bulk_PAW.in'\n",
    "kpointslist = ['8 8 8 0 0 0','10 10 10 0 0 0', '12 12 12 0 0 0']\n",
    "for kpts in kpointslist:\n",
    "    for cutoff in np.linspace(25,50,6):\n",
    "        makenewcalc(basefile, kpts,cutoff)"
   ]
  },
  {
   "cell_type": "code",
   "execution_count": null,
   "metadata": {},
   "outputs": [],
   "source": [
    ""
   ]
  }
 ],
 "metadata": {
  "kernelspec": {
   "display_name": "Python 2",
   "language": "python",
   "name": "python2"
  },
  "language_info": {
   "codemirror_mode": {
    "name": "ipython",
    "version": 2.0
   },
   "file_extension": ".py",
   "mimetype": "text/x-python",
   "name": "python",
   "nbconvert_exporter": "python",
   "pygments_lexer": "ipython2",
   "version": "2.7.6"
  }
 },
 "nbformat": 4,
 "nbformat_minor": 0
}