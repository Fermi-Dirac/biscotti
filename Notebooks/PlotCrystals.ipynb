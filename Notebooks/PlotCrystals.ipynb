{
 "cells": [
  {
   "cell_type": "code",
   "execution_count": 41,
   "metadata": {
    "collapsed": false
   },
   "outputs": [],
   "source": [
    "from mayavi import mlab\n",
    "import numpy as np\n",
    "#mlab.init_notebook()\n",
    "%gui qt"
   ]
  },
  {
   "cell_type": "code",
   "execution_count": null,
   "metadata": {
    "collapsed": true
   },
   "outputs": [],
   "source": [
    ""
   ]
  },
  {
   "cell_type": "code",
   "execution_count": 49,
   "metadata": {
    "collapsed": false
   },
   "outputs": [],
   "source": [
    "class Crystal():\n",
    "    __fname = ''\n",
    "    __cp  = []   #cell positions\n",
    "    __ap  = []   #atom positions\n",
    "    __Ns  = 0    #Atomic Species Count\n",
    "    __SP  = []   #Atomic Species Names\n",
    "    __Runs= 0    #Number of Runs\n",
    "\n",
    "    \n",
    "    def __init__(self,fname):\n",
    "        self.loadFile(fname)\n",
    "        \n",
    "    def getFname(self):\n",
    "        return self.__fname\n",
    "    \n",
    "    def loadFile(self,fname):\n",
    "        self.__fname=fname\n",
    "        with open(fname,'r') as f:\n",
    "            s = f.readlines()\n",
    "        sp = [i.split() for i in s]\n",
    "        cind = [i for i,l in enumerate(s) if 'CELL_PARAMETERS' in l]\n",
    "        aind = [i for i,l in enumerate(s) if 'ATOMIC_POSITIONS' in l]\n",
    "\n",
    "        def getNS(ai):\n",
    "            count = 0\n",
    "            while True:\n",
    "                if len(s[ai+count+1].split())==0:\n",
    "                    break\n",
    "                count += 1\n",
    "                return count\n",
    "        N = getNS(aind[0])\n",
    "        self.__Ns = N\n",
    "        self.__SP = np.array(sp[aind[0]+1:aind[0]+1+N])[:,0]\n",
    "        self.__cp = np.array([np.array(sp[i+1:j-1]) for i,j in zip(cind,aind)]).astype(np.float)\n",
    "        self.__ap = np.array([np.array(sp[i+1:i+2+N]) for i in aind])[:,:,1:].astype(np.float)\n",
    "        self.__Runs=len(cind)\n",
    "    \n",
    "    def mkCrystalPoints(self,Run,N):\n",
    "        mult = lambda A,r: (r*A.transpose()).transpose()\n",
    "        R = lambda h,k,l,A: h*A[0]+k*A[1]+l*A[2]\n",
    "        Rs = lambda h,k,l,A,r: np.sum(mult(np.array(A),np.array([h,k,l]))+mult(np.array(A),np.array(r)),axis=0)\n",
    "\n",
    "        Points = lambda CP,SP,N: np.array([Rs(i,j,k,CP,SP) \n",
    "                                         for i in range(N) \n",
    "                                         for j in range(N) \n",
    "                                         for k in range(N)]).transpose()\n",
    "        count = 1\n",
    "        \n",
    "        x,y,z,c=[],[],[],[]\n",
    "        #x,y,z = Points(self.__cp[Run],np.zeros(3),N)\n",
    "        #c = np.ones(len(x))*0\n",
    "        for i in self.__ap[Run]:\n",
    "            Ix,Iy,Iz = Points(self.__cp[Run],i,N)\n",
    "            Ic = np.ones(len(Ix))*count\n",
    "            x = np.concatenate((x,Ix),axis=0)\n",
    "            y = np.concatenate((y,Iy),axis=0)\n",
    "            z = np.concatenate((z,Iz),axis=0)\n",
    "            c = np.concatenate((c,Ic),axis=0)\n",
    "            count +=1\n",
    "        #pts = mlab.points3d(x,y,z,c,colormap='jet',scale_factor=1)\n",
    "        sV = np.ones(len(x))\n",
    "        return x,y,z,c,sV\n",
    "    \n",
    "    def plotCrystal(self,Run,N,scale=.5):\n",
    "        mlab.clf()\n",
    "        x,y,z,c,sV = self.mkCrystalPoints(Run,N)\n",
    "        pts = mlab.quiver3d(x, y, z, sV, sV, sV, scalars=c, mode=\"sphere\"\n",
    "                            , scale_factor=scale,vmin=0,colormap='jet')\n",
    "        pts.glyph.color_mode = \"color_by_scalar\"\n",
    "        pts.glyph.glyph_source.glyph_source.center = [0,0,0]\n",
    "        print type(pts)\n",
    "        mlab.show()\n",
    "    \n",
    "    def getNumberRuns(self):\n",
    "        return self.__Runs\n",
    "    \n",
    "    def getPositions(self):\n",
    "        return self.__cp,self.__ap"
   ]
  },
  {
   "cell_type": "code",
   "execution_count": 51,
   "metadata": {
    "collapsed": false
   },
   "outputs": [],
   "source": [
    "fname = 'InAs_Bulk_PAW.in_ecut_50.00Ry.out'\n",
    "c = Crystal(fname)"
   ]
  },
  {
   "cell_type": "code",
   "execution_count": 33,
   "metadata": {
    "collapsed": false
   },
   "outputs": [],
   "source": [
    "cp,ap = c.getPositions()"
   ]
  },
  {
   "cell_type": "code",
   "execution_count": null,
   "metadata": {
    "collapsed": false
   },
   "outputs": [],
   "source": [
    ""
   ]
  },
  {
   "cell_type": "code",
   "execution_count": 34,
   "metadata": {
    "collapsed": false
   },
   "outputs": [
    {
     "name": "stdout",
     "output_type": "stream",
     "text": [
      "[[[  4.35709000e-04   5.06200000e-06   5.06200000e-06]\n",
      "  [  2.50564291e-01   2.49994938e-01   2.49994938e-01]]\n",
      "\n",
      " [[  4.42719000e-04   9.57600000e-06   9.57600000e-06]\n",
      "  [  2.50557281e-01   2.49990424e-01   2.49990424e-01]]\n",
      "\n",
      " [[  4.55313000e-04   1.43290000e-05   1.43290000e-05]\n",
      "  [  2.50544687e-01   2.49985671e-01   2.49985671e-01]]\n",
      "\n",
      " [[  4.60487000e-04   1.35760000e-05   1.35760000e-05]\n",
      "  [  2.50539513e-01   2.49986424e-01   2.49986424e-01]]\n",
      "\n",
      " [[  4.60487000e-04   1.35760000e-05   1.35760000e-05]\n",
      "  [  2.50539513e-01   2.49986424e-01   2.49986424e-01]]]\n"
     ]
    }
   ],
   "source": [
    "print ap"
   ]
  },
  {
   "cell_type": "code",
   "execution_count": 35,
   "metadata": {
    "collapsed": false
   },
   "outputs": [
    {
     "name": "stdout",
     "output_type": "stream",
     "text": [
      "<class 'mayavi.modules.vectors.Vectors'>\n"
     ]
    }
   ],
   "source": [
    "p = c.plotCrystal(1,10)"
   ]
  },
  {
   "cell_type": "code",
   "execution_count": 38,
   "metadata": {
    "collapsed": false
   },
   "outputs": [],
   "source": [
    "from mayavi import mlab\n",
    "import numpy as np\n",
    "\n",
    "from traits.api import HasTraits,Int, Range, Instance, Button, on_trait_change\n",
    "from traitsui.api import View, Item, Group\n",
    "\n",
    "from mayavi.core.api import PipelineBase\n",
    "from mayavi.core.ui.api import MayaviScene, SceneEditor, MlabSceneModel\n",
    "\n",
    "import Tkinter as tk\n",
    "import tkFileDialog as fDog\n",
    "\n",
    "class CrystalInteract(HasTraits):\n",
    "    maxn  = 4\n",
    "    #run_n = Range(low=0,high='maxn',value=0.1)\n",
    "    #size  = Range(1,15,4)\n",
    "\n",
    "    reloadB = Button('Load File')\n",
    "    \n",
    "    scene = Instance(MlabSceneModel, ())\n",
    "    plot = Instance(PipelineBase)\n",
    "\n",
    "    def __init__(self,c):\n",
    "        HasTraits.__init__(self)\n",
    "        self.crystal=c\n",
    "        self.maxn = c.getNumberRuns()-1\n",
    "        self.add_trait('run_n',Range(0,self.maxn,0))\n",
    "        self.add_trait('size',Range(1,15,4))\n",
    "        self.add_trait('scale',Range(.1,1.0,.5))\n",
    "        #self.run_n.set(high=self.maxn)\n",
    "        \n",
    "    @on_trait_change('run_n,size,scale,scene.activated')\n",
    "    def update_plot(self):\n",
    "        if self.run_n > self.maxn:\n",
    "            self.run_n = self.maxn\n",
    "        x,y,z,c,sV=self.crystal.mkCrystalPoints(self.run_n,self.size)\n",
    "        self.scene.mlab.clf()\n",
    "        self.plot = self.scene.mlab.quiver3d(x, y, z, sV, sV, sV, scalars=c, mode=\"sphere\", scale_factor=self.scale,vmin=0,colormap='jet')\n",
    "        self.plot.glyph.color_mode = \"color_by_scalar\"\n",
    "        self.plot.glyph.glyph_source.glyph_source.center = [0,0,0]\n",
    "        \n",
    "\n",
    "    @on_trait_change('reloadB')\n",
    "    def reloadCrystal(self):\n",
    "        root = tk.Tk()\n",
    "        root.withdraw()\n",
    "        fname = fDog.askopenfilename()\n",
    "        self.crystal.loadFile(fname)\n",
    "        self.maxn = self.crystal.getNumberRuns()-1\n",
    "        #self.add_trait('run_n',Range(0,self.maxn,0))\n",
    "        \n",
    "    view = View(Item('scene', editor=SceneEditor(scene_class=MayaviScene),\n",
    "                     height=250, width=300, show_label=False),\n",
    "                Group('_', 'run_n', 'size','scale'),\n",
    "                #Group('_', 'reloadB',),\n",
    "                resizable=True,\n",
    "                )"
   ]
  },
  {
   "cell_type": "code",
   "execution_count": 39,
   "metadata": {
    "collapsed": false
   },
   "outputs": [
    {
     "data": {
      "text/plain": [
       "False"
      ]
     },
     "execution_count": 39,
     "metadata": {},
     "output_type": "execute_result"
    }
   ],
   "source": [
    "root = tk.Tk()\n",
    "root.withdraw()\n",
    "fname = fDog.askopenfilename()\n",
    "\n",
    "               \n",
    "#fname = \"InAs_Bulk_PAW.in_ecut_50.00Ry.out\"\n",
    "c = Crystal(fname)\n",
    "CI = CrystalInteract(c)\n",
    "#CI = CrystalInteract()\n",
    "CI.configure_traits()"
   ]
  },
  {
   "cell_type": "code",
   "execution_count": null,
   "metadata": {
    "collapsed": true
   },
   "outputs": [],
   "source": [
    ""
   ]
  }
 ],
 "metadata": {
  "kernelspec": {
   "display_name": "Python 2",
   "language": "python",
   "name": "python2"
  },
  "language_info": {
   "codemirror_mode": {
    "name": "ipython",
    "version": 2.0
   },
   "file_extension": ".py",
   "mimetype": "text/x-python",
   "name": "python",
   "nbconvert_exporter": "python",
   "pygments_lexer": "ipython2",
   "version": "2.7.11"
  },
  "widgets": {
   "state": {
    "33e5acce6f114d18acc53420a3f94870": {
     "views": [
      {
       "cell_index": 5.0
      }
     ]
    }
   },
   "version": "1.2.0"
  }
 },
 "nbformat": 4,
 "nbformat_minor": 0
}