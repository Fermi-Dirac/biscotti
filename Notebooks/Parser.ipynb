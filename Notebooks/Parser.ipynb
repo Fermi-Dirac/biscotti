{
 "cells": [
  {
   "cell_type": "code",
   "execution_count": 3,
   "metadata": {
    "collapsed": false
   },
   "outputs": [
    {
     "name": "stdout",
     "output_type": "stream",
     "text": [
      "! InAs Bulk Calc\n",
      "\n"
     ]
    }
   ],
   "source": [
    "f = open(\"InAs_Bulk_PAW.in\",'r')\n",
    "s = f.readlines()\n",
    "f.close()\n",
    "print s[0]"
   ]
  },
  {
   "cell_type": "code",
   "execution_count": 5,
   "metadata": {
    "collapsed": false
   },
   "outputs": [
    {
     "data": {
      "text/plain": [
       "17"
      ]
     },
     "execution_count": 5,
     "metadata": {},
     "output_type": "execute_result"
    }
   ],
   "source": [
    "len(s[0])"
   ]
  },
  {
   "cell_type": "code",
   "execution_count": 8,
   "metadata": {
    "collapsed": false
   },
   "outputs": [
    {
     "name": "stdout",
     "output_type": "stream",
     "text": [
      "['!', 'InAs', 'Bulk', 'Calc']\n"
     ]
    }
   ],
   "source": [
    "print s[0].split()"
   ]
  },
  {
   "cell_type": "code",
   "execution_count": 9,
   "metadata": {
    "collapsed": true
   },
   "outputs": [],
   "source": [
    "config = [i.split() for i in s]"
   ]
  },
  {
   "cell_type": "code",
   "execution_count": 11,
   "metadata": {
    "collapsed": false
   },
   "outputs": [
    {
     "name": "stdout",
     "output_type": "stream",
     "text": [
      "['!', 'Relaxation', 'calc,', 'finding', 'lattice', 'constants', 'for', 'the', 'given', 'Psuedopot']\n"
     ]
    }
   ],
   "source": [
    "print config[1]"
   ]
  },
  {
   "cell_type": "code",
   "execution_count": 17,
   "metadata": {
    "collapsed": false
   },
   "outputs": [
    {
     "name": "stdout",
     "output_type": "stream",
     "text": [
      "4: title = 'InAsBulk_PAW' ,\n",
      "5: calculation = 'vc-relax' , !or scf, relax, nscf, md...\n",
      "6: prefix = 'InAsBulk_PAW' , !Tony never set prefix\n",
      "7: restart_mode = 'from_scratch',\n",
      "8: wf_collect = .false. , !don't write wavefunctions, may need to make True\n",
      "9: lkpoint_dir = .true. , !doesnt work with wf_collect. Tony used False\n",
      "10: disk_io = 'none' , !tony used none here\n",
      "11: verbosity = 'default' , !spam control\n",
      "12: max_seconds = 28800.0 , !8 hours until timeout\n",
      "13: etot_conv_thr = 1.0D-4 , !total energy in au for ionic minimization. Extensive\n",
      "14: forc_conv_thr = 1.0D-3 , !force convergance threshold\n",
      "15: tstress = .true. , !stress tensor? normally off\n",
      "16: tprnfor = .true. , !Calcs forces. normally off unless relaxing\n",
      "18: nstep = 50 , ! Number of structural optimization steps\n",
      "21: ibrav = 0 , !0 generic, 1, cubic, 2: fcc, 4: Hexagonal, etc.\n",
      "22: A = 1 , ! No scaling, its annoying\n",
      "23: nat = 2 , !number of atoms in the unit cell\n",
      "24: ntyp = 2 , ! number of atomic species in the unit cell\n",
      "25: ecutwfc = 40 , !energy cutoff in Ry, 1 Ry = 0.5 Ha = 13.6057 eV, if you use Ultrasoft, set ecutrho = 10*ecutwfc. Tony uses 40\n",
      "26: nbnd = 16 , ! number of bands, likely don't need that many.\n",
      "27: occupations = 'smearing' ,! guassian smearing for metals. 'fixed' is better for insulators, use 'tetrahedra' if you're doing a DOS calc\n",
      "28: degauss = 0.001 , ! energy is Ry of smearing\n",
      "29: nspin = 1 , ! number of spins. 1 for normal, 2 for LSDA, and 4 for weird stuff with magnets\n",
      "30: exxdiv_treatment = 'gygi-baldereschi' ,!Stuff for Exx with coulumb potential divergance. gygi a4nd vcut is for cubic cells, vcut_ws for anisotropicand and 'none' for q = 0. gygi is default anyways.\n",
      "31: ! tot_charge = 0 , ! charged unit cell?\n",
      "35: electron_maxstep = 40 , ! Default is 100, fewer steps for fun\n",
      "36: scf_must_converge = .true. , ! Default true, if false, keeps moving ions even if electronic steps fail. Which is weird.\n",
      "37: conv_thr = 1.0d-7 , ! Convergance threshold for electronic steps\n",
      "38: startingpot = 'atomic' , ! Could be atomic (normal) or from file for non-self-consistent band stuff\n",
      "39: startingwfc = 'atomic+random' , ! atomic, random, both, or file.\n",
      "40: mixing_mode = 'plain' , ! Can also be thomas-fermi screening,\n",
      "45: cell_dynamics = 'bfgs'\n",
      "46: cell_dofree = 'all'\n"
     ]
    }
   ],
   "source": [
    "for i,l in enumerate(config):\n",
    "    if \"=\" in l:\n",
    "        print str(i)+': '+ \" \".join(l)"
   ]
  },
  {
   "cell_type": "code",
   "execution_count": 21,
   "metadata": {
    "collapsed": true
   },
   "outputs": [],
   "source": [
    "d = {l[0]:[l[2],\" \".join(l[3:])] for l in config if \"=\" in l}"
   ]
  },
  {
   "cell_type": "code",
   "execution_count": 22,
   "metadata": {
    "collapsed": false
   },
   "outputs": [
    {
     "name": "stdout",
     "output_type": "stream",
     "text": [
      "{'nspin': ['1', ', ! number of spins. 1 for normal, 2 for LSDA, and 4 for weird stuff with magnets'], 'conv_thr': ['1.0d-7', ', ! Convergance threshold for electronic steps'], 'occupations': [\"'smearing'\", \",! guassian smearing for metals. 'fixed' is better for insulators, use 'tetrahedra' if you're doing a DOS calc\"], 'calculation': [\"'vc-relax'\", ', !or scf, relax, nscf, md...'], 'prefix': [\"'InAsBulk_PAW'\", ', !Tony never set prefix'], 'cell_dynamics': [\"'bfgs'\", ''], 'nstep': ['50', ', ! Number of structural optimization steps'], 'tstress': ['.true.', ', !stress tensor? normally off'], '!': ['=', '0 , ! charged unit cell?'], 'nbnd': ['16', \", ! number of bands, likely don't need that many.\"], 'electron_maxstep': ['40', ', ! Default is 100, fewer steps for fun'], 'ecutwfc': ['40', ', !energy cutoff in Ry, 1 Ry = 0.5 Ha = 13.6057 eV, if you use Ultrasoft, set ecutrho = 10*ecutwfc. Tony uses 40'], 'disk_io': [\"'none'\", ', !tony used none here'], 'wf_collect': ['.false.', \", !don't write wavefunctions, may need to make True\"], 'title': [\"'InAsBulk_PAW'\", ','], 'ibrav': ['0', ', !0 generic, 1, cubic, 2: fcc, 4: Hexagonal, etc.'], 'max_seconds': ['28800.0', ', !8 hours until timeout'], 'nat': ['2', ', !number of atoms in the unit cell'], 'etot_conv_thr': ['1.0D-4', ', !total energy in au for ionic minimization. Extensive'], 'A': ['1', ', ! No scaling, its annoying'], 'tprnfor': ['.true.', ', !Calcs forces. normally off unless relaxing'], 'mixing_mode': [\"'plain'\", ', ! Can also be thomas-fermi screening,'], 'scf_must_converge': ['.true.', ', ! Default true, if false, keeps moving ions even if electronic steps fail. Which is weird.'], 'restart_mode': [\"'from_scratch',\", ''], 'startingwfc': [\"'atomic+random'\", ', ! atomic, random, both, or file.'], 'verbosity': [\"'default'\", ', !spam control'], 'exxdiv_treatment': [\"'gygi-baldereschi'\", \",!Stuff for Exx with coulumb potential divergance. gygi a4nd vcut is for cubic cells, vcut_ws for anisotropicand and 'none' for q = 0. gygi is default anyways.\"], 'forc_conv_thr': ['1.0D-3', ', !force convergance threshold'], 'degauss': ['0.001', ', ! energy is Ry of smearing'], 'lkpoint_dir': ['.true.', ', !doesnt work with wf_collect. Tony used False'], 'cell_dofree': [\"'all'\", ''], 'ntyp': ['2', ', ! number of atomic species in the unit cell'], 'startingpot': [\"'atomic'\", ', ! Could be atomic (normal) or from file for non-self-consistent band stuff']}\n"
     ]
    }
   ],
   "source": [
    "print d"
   ]
  },
  {
   "cell_type": "code",
   "execution_count": 23,
   "metadata": {
    "collapsed": false
   },
   "outputs": [
    {
     "name": "stdout",
     "output_type": "stream",
     "text": [
      "['nspin', 'conv_thr', 'occupations', 'calculation', 'prefix', 'cell_dynamics', 'nstep', 'tstress', '!', 'nbnd', 'electron_maxstep', 'ecutwfc', 'disk_io', 'wf_collect', 'title', 'ibrav', 'max_seconds', 'nat', 'etot_conv_thr', 'A', 'tprnfor', 'mixing_mode', 'scf_must_converge', 'restart_mode', 'startingwfc', 'verbosity', 'exxdiv_treatment', 'forc_conv_thr', 'degauss', 'lkpoint_dir', 'cell_dofree', 'ntyp', 'startingpot']\n"
     ]
    }
   ],
   "source": [
    "print d.keys()"
   ]
  },
  {
   "cell_type": "code",
   "execution_count": 24,
   "metadata": {
    "collapsed": false
   },
   "outputs": [
    {
     "data": {
      "text/plain": [
       "[\"'InAsBulk_PAW'\", ', !Tony never set prefix']"
      ]
     },
     "execution_count": 24,
     "metadata": {},
     "output_type": "execute_result"
    }
   ],
   "source": [
    "d['prefix']"
   ]
  },
  {
   "cell_type": "code",
   "execution_count": 30,
   "metadata": {
    "collapsed": false
   },
   "outputs": [],
   "source": [
    "d = {l[0]:[l[2],\" \".join(l[3:])] for l in config if \"=\" in l}\n",
    "D = {}\n",
    "commandThing = \"\"\n",
    "for l in config:\n",
    "    in l[0][0]=='&':\n",
    "        commandThing = l[0][1:]\n",
    "    if \"=\" in l:\n",
    "        D[commandThing].append({D[l[0]]=[l[2],\" \".join(l[4:])]"
   ]
  },
  {
   "cell_type": "code",
   "execution_count": 31,
   "metadata": {
    "collapsed": false
   },
   "outputs": [
    {
     "name": "stdout",
     "output_type": "stream",
     "text": [
      "['nspin', 'conv_thr', 'occupations', 'calculation', 'prefix', 'cell_dynamics', 'nstep', 'tstress', '!', 'nbnd', 'electron_maxstep', 'ecutwfc', 'disk_io', 'wf_collect', 'title', 'ibrav', 'max_seconds', 'nat', 'etot_conv_thr', 'A', 'tprnfor', 'mixing_mode', 'scf_must_converge', 'restart_mode', 'startingwfc', 'verbosity', 'exxdiv_treatment', 'forc_conv_thr', 'degauss', 'lkpoint_dir', 'cell_dofree', 'ntyp', 'startingpot']\n"
     ]
    }
   ],
   "source": [
    "print D.keys()"
   ]
  },
  {
   "cell_type": "code",
   "execution_count": 32,
   "metadata": {
    "collapsed": false
   },
   "outputs": [
    {
     "name": "stdout",
     "output_type": "stream",
     "text": [
      "{'nspin': ['1', '! number of spins. 1 for normal, 2 for LSDA, and 4 for weird stuff with magnets'], 'conv_thr': ['1.0d-7', '! Convergance threshold for electronic steps'], 'occupations': [\"'smearing'\", \"guassian smearing for metals. 'fixed' is better for insulators, use 'tetrahedra' if you're doing a DOS calc\"], 'calculation': [\"'vc-relax'\", '!or scf, relax, nscf, md...'], 'prefix': [\"'InAsBulk_PAW'\", '!Tony never set prefix'], 'cell_dynamics': [\"'bfgs'\", ''], 'nstep': ['50', '! Number of structural optimization steps'], 'tstress': ['.true.', '!stress tensor? normally off'], '!': ['=', ', ! charged unit cell?'], 'nbnd': ['16', \"! number of bands, likely don't need that many.\"], 'electron_maxstep': ['40', '! Default is 100, fewer steps for fun'], 'ecutwfc': ['40', '!energy cutoff in Ry, 1 Ry = 0.5 Ha = 13.6057 eV, if you use Ultrasoft, set ecutrho = 10*ecutwfc. Tony uses 40'], 'disk_io': [\"'none'\", '!tony used none here'], 'wf_collect': ['.false.', \"!don't write wavefunctions, may need to make True\"], 'title': [\"'InAsBulk_PAW'\", ''], 'ibrav': ['0', '!0 generic, 1, cubic, 2: fcc, 4: Hexagonal, etc.'], 'max_seconds': ['28800.0', '!8 hours until timeout'], 'nat': ['2', '!number of atoms in the unit cell'], 'etot_conv_thr': ['1.0D-4', '!total energy in au for ionic minimization. Extensive'], 'A': ['1', '! No scaling, its annoying'], 'tprnfor': ['.true.', '!Calcs forces. normally off unless relaxing'], 'mixing_mode': [\"'plain'\", '! Can also be thomas-fermi screening,'], 'scf_must_converge': ['.true.', '! Default true, if false, keeps moving ions even if electronic steps fail. Which is weird.'], 'restart_mode': [\"'from_scratch',\", ''], 'startingwfc': [\"'atomic+random'\", '! atomic, random, both, or file.'], 'verbosity': [\"'default'\", '!spam control'], 'exxdiv_treatment': [\"'gygi-baldereschi'\", \"for Exx with coulumb potential divergance. gygi a4nd vcut is for cubic cells, vcut_ws for anisotropicand and 'none' for q = 0. gygi is default anyways.\"], 'forc_conv_thr': ['1.0D-3', '!force convergance threshold'], 'degauss': ['0.001', '! energy is Ry of smearing'], 'lkpoint_dir': ['.true.', '!doesnt work with wf_collect. Tony used False'], 'cell_dofree': [\"'all'\", ''], 'ntyp': ['2', '! number of atomic species in the unit cell'], 'startingpot': [\"'atomic'\", '! Could be atomic (normal) or from file for non-self-consistent band stuff']}\n"
     ]
    }
   ],
   "source": [
    "print D"
   ]
  },
  {
   "cell_type": "code",
   "execution_count": 45,
   "metadata": {
    "collapsed": false
   },
   "outputs": [
    {
     "name": "stdout",
     "output_type": "stream",
     "text": [
      "!spam control\n"
     ]
    }
   ],
   "source": [
    "print D['command']['verbosity'][1]"
   ]
  },
  {
   "cell_type": "code",
   "execution_count": 42,
   "metadata": {
    "collapsed": false
   },
   "outputs": [],
   "source": [
    "f = open('InAs_Bulk_PAW-2.in','w')\n",
    "for i in D:\n",
    "    f.write(i + ' = ' + ' , '.join(D[i])+'\\n')\n",
    "f.close()"
   ]
  },
  {
   "cell_type": "code",
   "execution_count": 61,
   "metadata": {
    "collapsed": false
   },
   "outputs": [
    {
     "ename": "KeyError",
     "evalue": "'CONTROL'",
     "traceback": [
      "\u001b[0;31m---------------------------------------------------------------------------\u001b[0m",
      "\u001b[0;31mKeyError\u001b[0m                                  Traceback (most recent call last)",
      "\u001b[0;32m<ipython-input-61-e0a19ef03d35>\u001b[0m in \u001b[0;36m<module>\u001b[0;34m()\u001b[0m\n\u001b[1;32m      5\u001b[0m         \u001b[0mcommandThing\u001b[0m \u001b[1;33m=\u001b[0m \u001b[0ml\u001b[0m\u001b[1;33m[\u001b[0m\u001b[1;36m0\u001b[0m\u001b[1;33m]\u001b[0m\u001b[1;33m[\u001b[0m\u001b[1;36m1\u001b[0m\u001b[1;33m:\u001b[0m\u001b[1;33m]\u001b[0m\u001b[1;33m\u001b[0m\u001b[0m\n\u001b[1;32m      6\u001b[0m     \u001b[1;32mif\u001b[0m \u001b[1;34m\"=\"\u001b[0m \u001b[1;32min\u001b[0m \u001b[0ml\u001b[0m\u001b[1;33m:\u001b[0m\u001b[1;33m\u001b[0m\u001b[0m\n\u001b[0;32m----> 7\u001b[0;31m         \u001b[0mD\u001b[0m\u001b[1;33m[\u001b[0m\u001b[0mcommandThing\u001b[0m\u001b[1;33m]\u001b[0m\u001b[1;33m.\u001b[0m\u001b[0mappend\u001b[0m\u001b[1;33m(\u001b[0m\u001b[1;33m{\u001b[0m\u001b[1;33m[\u001b[0m\u001b[0ml\u001b[0m\u001b[1;33m[\u001b[0m\u001b[1;36m0\u001b[0m\u001b[1;33m]\u001b[0m\u001b[1;33m]\u001b[0m\u001b[1;33m:\u001b[0m\u001b[1;33m[\u001b[0m\u001b[0ml\u001b[0m\u001b[1;33m[\u001b[0m\u001b[1;36m2\u001b[0m\u001b[1;33m]\u001b[0m\u001b[1;33m,\u001b[0m\u001b[1;34m\" \"\u001b[0m\u001b[1;33m.\u001b[0m\u001b[0mjoin\u001b[0m\u001b[1;33m(\u001b[0m\u001b[0ml\u001b[0m\u001b[1;33m[\u001b[0m\u001b[1;36m4\u001b[0m\u001b[1;33m:\u001b[0m\u001b[1;33m]\u001b[0m\u001b[1;33m)\u001b[0m\u001b[1;33m]\u001b[0m\u001b[1;33m}\u001b[0m\u001b[1;33m)\u001b[0m\u001b[1;33m\u001b[0m\u001b[0m\n\u001b[0m",
      "\u001b[0;31mKeyError\u001b[0m: 'CONTROL'"
     ],
     "output_type": "error"
    }
   ],
   "source": [
    "D = {}\n",
    "namelists = \"\"\n",
    "for l in config:\n",
    "    if l[0][0]=='&':\n",
    "        commandThing = l[0][1:]\n",
    "    if \"=\" in l:\n",
    "        D[commandThing].append({[l[0]]:[l[2],\" \".join(l[4:])]})"
   ]
  },
  {
   "cell_type": "code",
   "execution_count": null,
   "metadata": {
    "collapsed": true
   },
   "outputs": [],
   "source": [
    ""
   ]
  }
 ],
 "metadata": {
  "kernelspec": {
   "display_name": "Python 2",
   "language": "python",
   "name": "python2"
  },
  "language_info": {
   "codemirror_mode": {
    "name": "ipython",
    "version": 2.0
   },
   "file_extension": ".py",
   "mimetype": "text/x-python",
   "name": "python",
   "nbconvert_exporter": "python",
   "pygments_lexer": "ipython2",
   "version": "2.7.11"
  }
 },
 "nbformat": 4,
 "nbformat_minor": 0
}